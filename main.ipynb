{
 "cells": [
  {
   "cell_type": "code",
   "execution_count": 56,
   "metadata": {},
   "outputs": [],
   "source": [
    "import matplotlib.pyplot as plt\n",
    "import seaborn as sns\n",
    "import pandas as pd\n",
    "from sklearn.linear_model import LogisticRegression\n",
    "from sklearn.model_selection import train_test_split\n",
    "from sklearn.metrics import mean_absolute_error, accuracy_score\n",
    "import math"
   ]
  },
  {
   "cell_type": "markdown",
   "metadata": {},
   "source": [
    "# Importing and Analysis of Dataset"
   ]
  },
  {
   "cell_type": "code",
   "execution_count": null,
   "metadata": {},
   "outputs": [],
   "source": [
    "data = pd.read_csv(\"./framingham.csv\")\n",
    "data.head()"
   ]
  },
  {
   "cell_type": "code",
   "execution_count": null,
   "metadata": {},
   "outputs": [],
   "source": [
    "data.describe()"
   ]
  },
  {
   "cell_type": "code",
   "execution_count": null,
   "metadata": {},
   "outputs": [],
   "source": [
    "print(f\"DATASET SIZE: {data.shape}\")"
   ]
  },
  {
   "cell_type": "code",
   "execution_count": null,
   "metadata": {},
   "outputs": [],
   "source": [
    "data.isnull().sum() # to get no. of null values or say missing values in the dataset"
   ]
  },
  {
   "cell_type": "markdown",
   "metadata": {},
   "source": [
    "# Removing missing values"
   ]
  },
  {
   "cell_type": "code",
   "execution_count": null,
   "metadata": {},
   "outputs": [],
   "source": [
    "print(data[\"education\"].median())\n",
    "print(data[\"cigsPerDay\"].mode()[0])\n",
    "print(data[\"BPMeds\"].mode()[0])\n",
    "print(data[\"totChol\"].mode()[0])\n",
    "print(data[\"BMI\"].mean())\n",
    "print(data[\"heartRate\"].mode()[0])\n",
    "print(data[\"glucose\"].mode()[0])"
   ]
  },
  {
   "cell_type": "code",
   "execution_count": null,
   "metadata": {},
   "outputs": [],
   "source": [
    "data[\"education\"] = data[\"education\"].fillna(data[\"education\"].median())\n",
    "data[\"cigsPerDay\"] = data[\"cigsPerDay\"].fillna(data[\"cigsPerDay\"].mode()[0])\n",
    "data[\"BPMeds\"] = data[\"BPMeds\"].fillna(data[\"BPMeds\"].mode()[0])\n",
    "data[\"totChol\"] = data[\"totChol\"].fillna(data[\"totChol\"].mode()[0])\n",
    "data[\"BMI\"] = data[\"BMI\"].fillna(data[\"BMI\"].mean())\n",
    "data[\"heartRate\"] = data[\"heartRate\"].fillna(data[\"heartRate\"].mode()[0])\n",
    "data[\"glucose\"] = data[\"glucose\"].fillna(data[\"glucose\"].mode()[0])\n",
    "data.isnull().sum() # to get no. of null values or say missing values in the dataset"
   ]
  },
  {
   "cell_type": "markdown",
   "metadata": {},
   "source": [
    "# Feature Selection using Correlation Matrix"
   ]
  },
  {
   "cell_type": "code",
   "execution_count": null,
   "metadata": {},
   "outputs": [],
   "source": [
    "# Now we need to peform feature or variable selection\n",
    "plt.figure(figsize=(10,10))\n",
    "sns.heatmap(data.corr(), cmap=\"coolwarm\", annot=True, fmt=\"0.2f\", linewidths=0.5, linecolor=\"Black\")"
   ]
  },
  {
   "cell_type": "code",
   "execution_count": 64,
   "metadata": {},
   "outputs": [],
   "source": [
    "dependent_X = data[[\"male\", \"age\", \"currentSmoker\", \"cigsPerDay\", \"BPMeds\", \"prevalentStroke\", \"prevalentHyp\", \"diabetes\", \"totChol\", \"sysBP\", \"diaBP\", \"BMI\", \"heartRate\", \"glucose\"]]\n",
    "independent_Y = data[\"TenYearCHD\"]"
   ]
  },
  {
   "cell_type": "markdown",
   "metadata": {},
   "source": [
    "# Train and Test Data Split"
   ]
  },
  {
   "cell_type": "code",
   "execution_count": 65,
   "metadata": {},
   "outputs": [],
   "source": [
    "x_train, x_test, y_train, y_test = train_test_split(dependent_X, independent_Y, random_state=42, train_size=0.8, shuffle=True)"
   ]
  },
  {
   "cell_type": "code",
   "execution_count": null,
   "metadata": {},
   "outputs": [],
   "source": [
    "print(f\"DATASET: {data.shape}\")\n",
    "print(f\"X_TRAIN: {x_train.shape}\")\n",
    "print(f\"X_TEST: {x_test.shape}\")\n",
    "print(f\"Y_TRAIN: {y_train.shape}\")\n",
    "print(f\"Y_TEST: {y_test.shape}\")"
   ]
  },
  {
   "cell_type": "markdown",
   "metadata": {},
   "source": [
    "# Generating Model using `sklearn`'s LogisticRegression"
   ]
  },
  {
   "cell_type": "code",
   "execution_count": 67,
   "metadata": {},
   "outputs": [],
   "source": [
    "model = LogisticRegression()"
   ]
  },
  {
   "cell_type": "code",
   "execution_count": null,
   "metadata": {},
   "outputs": [],
   "source": [
    "model.fit(x_train, y_train)"
   ]
  },
  {
   "cell_type": "code",
   "execution_count": 69,
   "metadata": {},
   "outputs": [],
   "source": [
    "y_predicted = model.predict(x_test)"
   ]
  },
  {
   "cell_type": "code",
   "execution_count": null,
   "metadata": {},
   "outputs": [],
   "source": [
    "accuracy = accuracy_score(y_true=y_test, y_pred=y_predicted)\n",
    "mse = mean_absolute_error(y_true=y_test, y_pred=y_predicted)\n",
    "rmse = math.sqrt(mse)\n",
    "\n",
    "print(f\"Accuracy Score of Model: {accuracy}\")\n",
    "print(f\"Mean Squared Error: {mse}\")\n",
    "print(f\"Root Mean Squared Error: {rmse}\")"
   ]
  }
 ],
 "metadata": {
  "kernelspec": {
   "display_name": "Python 3",
   "language": "python",
   "name": "python3"
  },
  "language_info": {
   "codemirror_mode": {
    "name": "ipython",
    "version": 3
   },
   "file_extension": ".py",
   "mimetype": "text/x-python",
   "name": "python",
   "nbconvert_exporter": "python",
   "pygments_lexer": "ipython3",
   "version": "3.13.1"
  }
 },
 "nbformat": 4,
 "nbformat_minor": 2
}
